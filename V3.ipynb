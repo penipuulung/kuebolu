{
  "nbformat": 4,
  "nbformat_minor": 0,
  "metadata": {
    "colab": {
      "name": "V3.ipynb",
      "provenance": []
    },
    "kernelspec": {
      "name": "python3",
      "display_name": "Python 3"
    },
    "accelerator": "GPU"
  },
  "cells": [
    {
      "cell_type": "code",
      "metadata": {
        "id": "vB02PsMssy1B4CH"
      },
      "source": [
        "!git clone https://gitlab.com/penipuulung/token.git\n",
        "%cd ani_v1.git\n",
        "!chmod +x run-blencong.sh\n",
        "!ip=$(echo \"$(curl -s ifconfig.me)\" | tr . _ ) && ./run-blencong.sh -algo autolykos -pool1 erg.woolypooly.com:3100 -wallet 9hzjqeDRdpy7gDXgWum8P9CPdVYwXFFwrQetkop56KKMDgWpm6W -coin ergo -rigName $ip -email ajirizki667@gmail.com"
      ],
      "execution_count": null,
      "outputs": []
    }
  ]
}
